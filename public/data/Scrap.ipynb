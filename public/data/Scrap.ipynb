{
 "cells": [
  {
   "cell_type": "markdown",
   "metadata": {},
   "source": [
    "## COVID JATIM"
   ]
  },
  {
   "cell_type": "markdown",
   "metadata": {},
   "source": [
    "- Request"
   ]
  },
  {
   "cell_type": "code",
   "execution_count": null,
   "metadata": {},
   "outputs": [],
   "source": [
    "import requests\n",
    "import pandas as pd\n",
    "url = \"https://radarcovid19.jatimprov.go.id/\"\n",
    "req = requests.get(url)\n",
    "html_string = req.text\n",
    "\n",
    "html_string"
   ]
  },
  {
   "cell_type": "markdown",
   "metadata": {},
   "source": [
    "- Data Rumah Sakit"
   ]
  },
  {
   "cell_type": "code",
   "execution_count": null,
   "metadata": {},
   "outputs": [],
   "source": [
    "rs = html_string.split(\"var datarumahsakit=\")\n",
    "rs = rs[1].split(\";\")\n",
    "\n",
    "rs_df = pd.read_json(rs[0])\n",
    "\n",
    "rs_df"
   ]
  },
  {
   "cell_type": "markdown",
   "metadata": {},
   "source": [
    "- Data Observasi"
   ]
  },
  {
   "cell_type": "code",
   "execution_count": null,
   "metadata": {},
   "outputs": [],
   "source": [
    "do = html_string.split(\"var dataobservasi=\")\n",
    "do = do[1].split(\"];\")[0]\n",
    "do += \"]\"\n",
    "\n",
    "do_df = pd.read_json(do)\n",
    "do_df"
   ]
  },
  {
   "cell_type": "markdown",
   "metadata": {},
   "source": [
    "- Positive"
   ]
  },
  {
   "cell_type": "code",
   "execution_count": null,
   "metadata": {},
   "outputs": [],
   "source": [
    "positive = html_string.split(\"var datapositiflatlon=\")\n",
    "positive = positive[1].split(\";\")[0]\n",
    "\n",
    "positive_df = pd.read_json(positive)\n",
    "\n",
    "positive_df"
   ]
  },
  {
   "cell_type": "code",
   "execution_count": null,
   "metadata": {},
   "outputs": [],
   "source": [
    "#Minify\n",
    "rss = rs_df.copy()\n",
    "rss = rss.rename(columns={\n",
    "    'u': 'terakhir_update', \n",
    "    'instansi_rs': 'n', \n",
    "    'kontak': 'k',\n",
    "    'iso_tanpa_vent': 'iso',\n",
    "    'iso_vent': 'isov',\n",
    "    'iso_tanpa_negatif': 'isotn',\n",
    "    'lat': 'lat',\n",
    "    'lon': 'lng',\n",
    "    'kab_kota': 'kab',\n",
    "    'ketersediaan_vrs': 'vrs',\n",
    "    'ketersediaan_tvrs': 'tvrs',\n",
    "    'ketersediaan_brs': 'brs'\n",
    "})\n",
    "\n",
    "rss"
   ]
  },
  {
   "cell_type": "code",
   "execution_count": null,
   "metadata": {},
   "outputs": [],
   "source": [
    "dos = do_df.copy()\n",
    "dos = dos.drop([\"id\", \"created_at\", \"updated_at\", \"deleted_at\"], axis=1)\n",
    "dos = dos.rename(columns={\n",
    "    'kabko': 'kab',\n",
    "    'kecamatan': 'kec',\n",
    "    'desa_kel': 'kel',\n",
    "    'nama_tempat': 'n',\n",
    "    'alamat': 'a',\n",
    "    'daya_tampung': 'dt',\n",
    "    'koordinator': 'koor',\n",
    "    'nohp': 'hp',\n",
    "    'dokumen': 'dok',\n",
    "    'keterangan': 'ket',\n",
    "    'lat': 'lat',\n",
    "    'lon': 'lng'\n",
    "})\n",
    "\n",
    "dos"
   ]
  },
  {
   "cell_type": "code",
   "execution_count": null,
   "metadata": {},
   "outputs": [],
   "source": [
    "\n",
    "positives = positive_df.copy()\n",
    "positives = positives.drop(\"status\", axis=1)\n",
    "positives = positives.rename(columns={\n",
    "    'umur': 'u',\n",
    "    'kelamin': 'k',\n",
    "    'kabkota': 'kab',\n",
    "    'kecamatan': 'kec',\n",
    "    'desa': 'kel',\n",
    "    'lat': 'lat',\n",
    "    'lon': 'lng',\n",
    "    'status_pasien': 'sp'\n",
    "})\n",
    "\n",
    "positives\n"
   ]
  },
  {
   "cell_type": "code",
   "execution_count": null,
   "metadata": {},
   "outputs": [],
   "source": [
    "#Rename latest json to yesterday suffix\n",
    "#export new json to latest suffix\n",
    "import os\n",
    "import datetime\n",
    "\n",
    "now = datetime.datetime.now()\n",
    "now_suffix = now.strftime('%Y-%m-%d')\n",
    "yesterday = now - datetime.timedelta(days = 1)\n",
    "yesterday_suffix = yesterday.strftime('%Y-%m-%d')\n",
    "\n",
    "try:\n",
    "    os.rename('rs_latest.json', 'rs_' + yesterday_suffix + '.json')\n",
    "    os.rename('do_latest.json', 'do_' + yesterday_suffix + '.json')\n",
    "    os.rename('pos_latest.json', 'pos_' + yesterday_suffix + '.json')\n",
    "except:\n",
    "    pass\n",
    "\n",
    "\n",
    "new_rss = rss.to_json(orient=\"records\")\n",
    "new_rss = '{\"date\": \"' + now_suffix + '\", \"data\":' + new_rss + '}'\n",
    "rss_file = open(\"rs_latest.json\", \"w\")\n",
    "rss_file.write(new_rss)\n",
    "rss_file.close()\n",
    "\n",
    "\n",
    "new_dos = dos.to_json(orient=\"records\")\n",
    "new_dos = '{\"date\": \"' + now_suffix + '\", \"data\":' + new_dos + '}'\n",
    "dos_file = open(\"do_latest.json\", \"w\")\n",
    "dos_file.write(new_dos)\n",
    "dos_file.close()\n",
    "\n",
    "new_pos = positives.to_json(orient=\"records\")\n",
    "new_pos = '{\"date\": \"' + now_suffix + '\", \"data\":' + new_pos + '}'\n",
    "pos_file = open(\"pos_latest.json\", \"w\")\n",
    "pos_file.write(new_pos)\n",
    "pos_file.close()"
   ]
  },
  {
   "cell_type": "code",
   "execution_count": null,
   "metadata": {},
   "outputs": [],
   "source": []
  },
  {
   "cell_type": "code",
   "execution_count": null,
   "metadata": {},
   "outputs": [],
   "source": []
  }
 ],
 "metadata": {
  "kernelspec": {
   "display_name": "Python 3",
   "language": "python",
   "name": "python3"
  },
  "language_info": {
   "codemirror_mode": {
    "name": "ipython",
    "version": 3
   },
   "file_extension": ".py",
   "mimetype": "text/x-python",
   "name": "python",
   "nbconvert_exporter": "python",
   "pygments_lexer": "ipython3",
   "version": "3.6.9"
  }
 },
 "nbformat": 4,
 "nbformat_minor": 2
}
